{
 "cells": [
  {
   "cell_type": "code",
   "execution_count": 150,
   "id": "3c21097a",
   "metadata": {},
   "outputs": [
    {
     "name": "stdout",
     "output_type": "stream",
     "text": [
      "Requirement already satisfied: pandasql in c:\\users\\elee0\\anaconda3\\lib\\site-packages (0.7.3)"
     ]
    },
    {
     "name": "stderr",
     "output_type": "stream",
     "text": [
      "\n",
      "[notice] A new release of pip available: 22.2.2 -> 22.3.1\n",
      "[notice] To update, run: python.exe -m pip install --upgrade pip\n"
     ]
    },
    {
     "name": "stdout",
     "output_type": "stream",
     "text": [
      "\n",
      "Requirement already satisfied: sqlalchemy in c:\\users\\elee0\\anaconda3\\lib\\site-packages (from pandasql) (1.4.7)\n",
      "Requirement already satisfied: numpy in c:\\users\\elee0\\anaconda3\\lib\\site-packages (from pandasql) (1.20.1)\n",
      "Requirement already satisfied: pandas in c:\\users\\elee0\\anaconda3\\lib\\site-packages (from pandasql) (1.2.4)\n",
      "Requirement already satisfied: pytz>=2017.3 in c:\\users\\elee0\\anaconda3\\lib\\site-packages (from pandas->pandasql) (2021.1)\n",
      "Requirement already satisfied: python-dateutil>=2.7.3 in c:\\users\\elee0\\anaconda3\\lib\\site-packages (from pandas->pandasql) (2.8.1)\n",
      "Requirement already satisfied: greenlet!=0.4.17 in c:\\users\\elee0\\anaconda3\\lib\\site-packages (from sqlalchemy->pandasql) (1.0.0)\n",
      "Requirement already satisfied: six>=1.5 in c:\\users\\elee0\\anaconda3\\lib\\site-packages (from python-dateutil>=2.7.3->pandas->pandasql) (1.15.0)\n"
     ]
    }
   ],
   "source": [
    "!pip install -U pandasql\n",
    "import pandas as pd\n",
    "from pandasql import sqldf"
   ]
  },
  {
   "cell_type": "code",
   "execution_count": 216,
   "id": "d6a1e2bc",
   "metadata": {},
   "outputs": [],
   "source": [
    "df = pd.read_csv('output.csv')"
   ]
  },
  {
   "cell_type": "code",
   "execution_count": 217,
   "id": "d074c282",
   "metadata": {},
   "outputs": [],
   "source": [
    "#Reason why I changed the column name is PandaSQL gave some errors.\n",
    "\n",
    "df = df.rename(columns={'fake_order#': 'order_number'})"
   ]
  },
  {
   "cell_type": "code",
   "execution_count": 218,
   "id": "88d24688",
   "metadata": {},
   "outputs": [],
   "source": [
    "df['id'] = range(1, len(df) + 1)"
   ]
  },
  {
   "cell_type": "code",
   "execution_count": 219,
   "id": "e102676c",
   "metadata": {
    "scrolled": false
   },
   "outputs": [
    {
     "data": {
      "text/html": [
       "<div>\n",
       "<style scoped>\n",
       "    .dataframe tbody tr th:only-of-type {\n",
       "        vertical-align: middle;\n",
       "    }\n",
       "\n",
       "    .dataframe tbody tr th {\n",
       "        vertical-align: top;\n",
       "    }\n",
       "\n",
       "    .dataframe thead th {\n",
       "        text-align: right;\n",
       "    }\n",
       "</style>\n",
       "<table border=\"1\" class=\"dataframe\">\n",
       "  <thead>\n",
       "    <tr style=\"text-align: right;\">\n",
       "      <th></th>\n",
       "      <th>order_number</th>\n",
       "      <th>sku</th>\n",
       "      <th>category</th>\n",
       "      <th>color</th>\n",
       "      <th>fuel_type</th>\n",
       "      <th>installation_type</th>\n",
       "      <th>price</th>\n",
       "      <th>quantity</th>\n",
       "      <th>subcategories</th>\n",
       "      <th>subtitle</th>\n",
       "      <th>...</th>\n",
       "      <th>type</th>\n",
       "      <th>created_at</th>\n",
       "      <th>msrp</th>\n",
       "      <th>depth</th>\n",
       "      <th>width</th>\n",
       "      <th>height</th>\n",
       "      <th>capacity</th>\n",
       "      <th>cbsa_region</th>\n",
       "      <th>property_state</th>\n",
       "      <th>id</th>\n",
       "    </tr>\n",
       "  </thead>\n",
       "  <tbody>\n",
       "    <tr>\n",
       "      <th>0</th>\n",
       "      <td>PRO100003147</td>\n",
       "      <td>M007</td>\n",
       "      <td>NaN</td>\n",
       "      <td>NaN</td>\n",
       "      <td>NaN</td>\n",
       "      <td>self</td>\n",
       "      <td>23.0</td>\n",
       "      <td>1.0</td>\n",
       "      <td>NaN</td>\n",
       "      <td>Dispose Of Old Appliance - No Cfc'S</td>\n",
       "      <td>...</td>\n",
       "      <td>removal</td>\n",
       "      <td>2021-01-02 15:43:19.347000</td>\n",
       "      <td>NaN</td>\n",
       "      <td>NaN</td>\n",
       "      <td>NaN</td>\n",
       "      <td>NaN</td>\n",
       "      <td>NaN</td>\n",
       "      <td>Tampa-St. Petersburg-Clearwater, FL</td>\n",
       "      <td>FL</td>\n",
       "      <td>1</td>\n",
       "    </tr>\n",
       "    <tr>\n",
       "      <th>1</th>\n",
       "      <td>PRO100003147</td>\n",
       "      <td>M021</td>\n",
       "      <td>NaN</td>\n",
       "      <td>NaN</td>\n",
       "      <td>NaN</td>\n",
       "      <td>self</td>\n",
       "      <td>10.0</td>\n",
       "      <td>1.0</td>\n",
       "      <td>NaN</td>\n",
       "      <td>Disconnect Dishwasher</td>\n",
       "      <td>...</td>\n",
       "      <td>disconnect</td>\n",
       "      <td>2021-01-02 15:43:19.347000</td>\n",
       "      <td>NaN</td>\n",
       "      <td>NaN</td>\n",
       "      <td>NaN</td>\n",
       "      <td>NaN</td>\n",
       "      <td>NaN</td>\n",
       "      <td>Tampa-St. Petersburg-Clearwater, FL</td>\n",
       "      <td>FL</td>\n",
       "      <td>2</td>\n",
       "    </tr>\n",
       "    <tr>\n",
       "      <th>2</th>\n",
       "      <td>PRO100003147</td>\n",
       "      <td>M402</td>\n",
       "      <td>NaN</td>\n",
       "      <td>NaN</td>\n",
       "      <td>NaN</td>\n",
       "      <td>self</td>\n",
       "      <td>45.0</td>\n",
       "      <td>1.0</td>\n",
       "      <td>NaN</td>\n",
       "      <td>Install Dishwasher, remove tape &amp; packing mate...</td>\n",
       "      <td>...</td>\n",
       "      <td>install</td>\n",
       "      <td>2021-01-02 15:43:19.347000</td>\n",
       "      <td>NaN</td>\n",
       "      <td>NaN</td>\n",
       "      <td>NaN</td>\n",
       "      <td>NaN</td>\n",
       "      <td>NaN</td>\n",
       "      <td>Tampa-St. Petersburg-Clearwater, FL</td>\n",
       "      <td>FL</td>\n",
       "      <td>3</td>\n",
       "    </tr>\n",
       "    <tr>\n",
       "      <th>3</th>\n",
       "      <td>PRO100003147</td>\n",
       "      <td>M421</td>\n",
       "      <td>NaN</td>\n",
       "      <td>NaN</td>\n",
       "      <td>NaN</td>\n",
       "      <td>self</td>\n",
       "      <td>10.0</td>\n",
       "      <td>1.0</td>\n",
       "      <td>NaN</td>\n",
       "      <td>Supply and Attach Dishwasher Cord</td>\n",
       "      <td>...</td>\n",
       "      <td>install</td>\n",
       "      <td>2021-01-02 15:43:19.347000</td>\n",
       "      <td>NaN</td>\n",
       "      <td>NaN</td>\n",
       "      <td>NaN</td>\n",
       "      <td>NaN</td>\n",
       "      <td>NaN</td>\n",
       "      <td>Tampa-St. Petersburg-Clearwater, FL</td>\n",
       "      <td>FL</td>\n",
       "      <td>4</td>\n",
       "    </tr>\n",
       "    <tr>\n",
       "      <th>4</th>\n",
       "      <td>PRO100003147</td>\n",
       "      <td>M435</td>\n",
       "      <td>NaN</td>\n",
       "      <td>NaN</td>\n",
       "      <td>NaN</td>\n",
       "      <td>self</td>\n",
       "      <td>25.0</td>\n",
       "      <td>1.0</td>\n",
       "      <td>NaN</td>\n",
       "      <td>Supply and Install Braided Waterline</td>\n",
       "      <td>...</td>\n",
       "      <td>install</td>\n",
       "      <td>2021-01-02 15:43:19.347000</td>\n",
       "      <td>NaN</td>\n",
       "      <td>NaN</td>\n",
       "      <td>NaN</td>\n",
       "      <td>NaN</td>\n",
       "      <td>NaN</td>\n",
       "      <td>Tampa-St. Petersburg-Clearwater, FL</td>\n",
       "      <td>FL</td>\n",
       "      <td>5</td>\n",
       "    </tr>\n",
       "  </tbody>\n",
       "</table>\n",
       "<p>5 rows × 21 columns</p>\n",
       "</div>"
      ],
      "text/plain": [
       "   order_number   sku category color fuel_type installation_type  price  \\\n",
       "0  PRO100003147  M007      NaN   NaN       NaN              self   23.0   \n",
       "1  PRO100003147  M021      NaN   NaN       NaN              self   10.0   \n",
       "2  PRO100003147  M402      NaN   NaN       NaN              self   45.0   \n",
       "3  PRO100003147  M421      NaN   NaN       NaN              self   10.0   \n",
       "4  PRO100003147  M435      NaN   NaN       NaN              self   25.0   \n",
       "\n",
       "   quantity subcategories                                           subtitle  \\\n",
       "0       1.0           NaN                Dispose Of Old Appliance - No Cfc'S   \n",
       "1       1.0           NaN                              Disconnect Dishwasher   \n",
       "2       1.0           NaN  Install Dishwasher, remove tape & packing mate...   \n",
       "3       1.0           NaN                  Supply and Attach Dishwasher Cord   \n",
       "4       1.0           NaN               Supply and Install Braided Waterline   \n",
       "\n",
       "   ...        type                  created_at msrp  depth  width  height  \\\n",
       "0  ...     removal  2021-01-02 15:43:19.347000  NaN    NaN    NaN     NaN   \n",
       "1  ...  disconnect  2021-01-02 15:43:19.347000  NaN    NaN    NaN     NaN   \n",
       "2  ...     install  2021-01-02 15:43:19.347000  NaN    NaN    NaN     NaN   \n",
       "3  ...     install  2021-01-02 15:43:19.347000  NaN    NaN    NaN     NaN   \n",
       "4  ...     install  2021-01-02 15:43:19.347000  NaN    NaN    NaN     NaN   \n",
       "\n",
       "   capacity                          cbsa_region property_state id  \n",
       "0       NaN  Tampa-St. Petersburg-Clearwater, FL             FL  1  \n",
       "1       NaN  Tampa-St. Petersburg-Clearwater, FL             FL  2  \n",
       "2       NaN  Tampa-St. Petersburg-Clearwater, FL             FL  3  \n",
       "3       NaN  Tampa-St. Petersburg-Clearwater, FL             FL  4  \n",
       "4       NaN  Tampa-St. Petersburg-Clearwater, FL             FL  5  \n",
       "\n",
       "[5 rows x 21 columns]"
      ]
     },
     "execution_count": 219,
     "metadata": {},
     "output_type": "execute_result"
    }
   ],
   "source": [
    "df.head()"
   ]
  },
  {
   "cell_type": "markdown",
   "id": "0074d442",
   "metadata": {},
   "source": [
    "## Q1 (a)"
   ]
  },
  {
   "cell_type": "markdown",
   "id": "3299711a",
   "metadata": {},
   "source": [
    "### Order number"
   ]
  },
  {
   "cell_type": "code",
   "execution_count": 209,
   "id": "163acb93",
   "metadata": {},
   "outputs": [
    {
     "name": "stdout",
     "output_type": "stream",
     "text": [
      "   COUNT(DISTINCT order_number)\n",
      "0                         19141\n"
     ]
    }
   ],
   "source": [
    "print(sqldf(\"SELECT COUNT(DISTINCT order_number) FROM df;\",locals()))"
   ]
  },
  {
   "cell_type": "markdown",
   "id": "e166dd55",
   "metadata": {},
   "source": [
    "### Total number of appliances ordered"
   ]
  },
  {
   "cell_type": "code",
   "execution_count": 155,
   "id": "452694f6",
   "metadata": {},
   "outputs": [
    {
     "name": "stdout",
     "output_type": "stream",
     "text": [
      "   SUM(quantity)\n",
      "0        54709.0\n"
     ]
    }
   ],
   "source": [
    "print(sqldf(\"SELECT SUM(quantity) FROM df WHERE type='APPLIANCE';\",locals()))"
   ]
  },
  {
   "cell_type": "markdown",
   "id": "f5b3db21",
   "metadata": {},
   "source": [
    "### Total cost of appliances"
   ]
  },
  {
   "cell_type": "code",
   "execution_count": 156,
   "id": "f5adeca9",
   "metadata": {},
   "outputs": [
    {
     "name": "stdout",
     "output_type": "stream",
     "text": [
      "   total_APP_cost\n",
      "0      27063588.0\n"
     ]
    }
   ],
   "source": [
    "APPL = sqldf(\"SELECT SUM(price * quantity) AS total_APP_cost FROM df WHERE type='APPLIANCE';\",locals())\n",
    "print(APPL)"
   ]
  },
  {
   "cell_type": "markdown",
   "id": "f53b6b8b",
   "metadata": {},
   "source": [
    "### Services total"
   ]
  },
  {
   "cell_type": "code",
   "execution_count": 157,
   "id": "8668cf09",
   "metadata": {},
   "outputs": [
    {
     "name": "stdout",
     "output_type": "stream",
     "text": [
      "   total_SER_cost\n",
      "0        675363.0\n"
     ]
    }
   ],
   "source": [
    "SERV = sqldf(\"SELECT SUM(price * quantity) AS total_SER_cost FROM df WHERE (type='removal'OR type='disconnect' OR type='install' OR type='expedited');\",locals()) \n",
    "print(SERV)"
   ]
  },
  {
   "cell_type": "markdown",
   "id": "bd5ebfc1",
   "metadata": {},
   "source": [
    "### Parts total"
   ]
  },
  {
   "cell_type": "code",
   "execution_count": 158,
   "id": "12b1587c",
   "metadata": {},
   "outputs": [
    {
     "name": "stdout",
     "output_type": "stream",
     "text": [
      "   total_PART_cost\n",
      "0         112199.0\n"
     ]
    }
   ],
   "source": [
    "PART = sqldf(\"SELECT SUM(price * quantity) AS total_PART_cost FROM df WHERE type='PART';\",locals()) \n",
    "print(PART)"
   ]
  },
  {
   "cell_type": "markdown",
   "id": "edecc9ca",
   "metadata": {},
   "source": [
    "### Total"
   ]
  },
  {
   "cell_type": "code",
   "execution_count": 159,
   "id": "09cbbdba",
   "metadata": {},
   "outputs": [
    {
     "name": "stdout",
     "output_type": "stream",
     "text": [
      "   total_cost\n",
      "0  27851150.0\n"
     ]
    }
   ],
   "source": [
    "Total = sqldf(\"SELECT SUM(price * quantity) AS total_cost FROM df;\",locals())\n",
    "print(Total)"
   ]
  },
  {
   "cell_type": "markdown",
   "id": "399f8882",
   "metadata": {},
   "source": [
    "### Validation of total  with subtotal of three categories"
   ]
  },
  {
   "cell_type": "code",
   "execution_count": 160,
   "id": "838e6d7f",
   "metadata": {},
   "outputs": [],
   "source": [
    "Val = pd.concat([APPL['total_APP_cost'],SERV['total_SER_cost'],PART['total_PART_cost']]).sum()"
   ]
  },
  {
   "cell_type": "code",
   "execution_count": 161,
   "id": "988a4252",
   "metadata": {},
   "outputs": [
    {
     "name": "stdout",
     "output_type": "stream",
     "text": [
      "0    True\n",
      "Name: total_cost, dtype: bool\n"
     ]
    }
   ],
   "source": [
    "print(Val == Total['total_cost'])"
   ]
  }
 ],
 "metadata": {
  "kernelspec": {
   "display_name": "Python 3",
   "language": "python",
   "name": "python3"
  },
  "language_info": {
   "codemirror_mode": {
    "name": "ipython",
    "version": 3
   },
   "file_extension": ".py",
   "mimetype": "text/x-python",
   "name": "python",
   "nbconvert_exporter": "python",
   "pygments_lexer": "ipython3",
   "version": "3.8.8"
  }
 },
 "nbformat": 4,
 "nbformat_minor": 5
}
